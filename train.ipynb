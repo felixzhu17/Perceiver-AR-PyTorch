{
 "cells": [
  {
   "cell_type": "code",
   "execution_count": 1,
   "metadata": {},
   "outputs": [],
   "source": [
    "import torch\n",
    "from PerceiverAR import *\n",
    "from dataset import *\n",
    "from trainer import *"
   ]
  },
  {
   "cell_type": "code",
   "execution_count": 2,
   "metadata": {},
   "outputs": [],
   "source": [
    "BLOCK_SIZE = 128\n",
    "LATENT_SIZE = 32\n",
    "CORPUS_PATH = \"wiki.txt\""
   ]
  },
  {
   "cell_type": "code",
   "execution_count": 3,
   "metadata": {},
   "outputs": [
    {
     "name": "stdout",
     "output_type": "stream",
     "text": [
      "data has 418352 characters, 258 unique.\n"
     ]
    }
   ],
   "source": [
    "text = open(CORPUS_PATH, encoding=\"utf-8\").read()\n",
    "perceiver_dataset = PerceiverARDataset(text, BLOCK_SIZE, LATENT_SIZE)"
   ]
  },
  {
   "cell_type": "code",
   "execution_count": 4,
   "metadata": {},
   "outputs": [],
   "source": [
    "model_config = GPTConfig(\n",
    "    perceiver_dataset.vocab_size,\n",
    "    perceiver_dataset.block_size,\n",
    "    n_layer=4,\n",
    "    n_head=8,\n",
    "    n_embd=256,\n",
    "    perceiver=True,\n",
    "    latent_size=perceiver_dataset.latent_size,\n",
    "    padding_idx=perceiver_dataset.stoi[perceiver_dataset.PAD_CHAR],\n",
    ")\n",
    "\n",
    "model = PerceiverAR(model_config)"
   ]
  },
  {
   "cell_type": "markdown",
   "metadata": {},
   "source": [
    "# Train"
   ]
  },
  {
   "cell_type": "code",
   "execution_count": 10,
   "metadata": {},
   "outputs": [],
   "source": [
    "trainer_config = TrainerConfig(\n",
    "    max_epochs=1,\n",
    "    lr_decay=True,\n",
    "    ckpt_path=\"perceiver_ar.pt\",\n",
    ")\n",
    "model.load_state_dict(torch.load(trainer_config.ckpt_path))\n",
    "trainer = Trainer(model, perceiver_dataset, trainer_config)"
   ]
  },
  {
   "cell_type": "code",
   "execution_count": null,
   "metadata": {},
   "outputs": [],
   "source": [
    "trainer.train()"
   ]
  },
  {
   "cell_type": "markdown",
   "metadata": {},
   "source": [
    "# Test"
   ]
  },
  {
   "cell_type": "code",
   "execution_count": 11,
   "metadata": {},
   "outputs": [],
   "source": [
    "TEST_INDEX = 200"
   ]
  },
  {
   "cell_type": "code",
   "execution_count": 12,
   "metadata": {},
   "outputs": [],
   "source": [
    "def torch_to_string(x):\n",
    "    x = x.to(\"cpu\")\n",
    "    return \"\".join([perceiver_dataset.itos[i] for i in x.numpy()])"
   ]
  },
  {
   "cell_type": "code",
   "execution_count": 13,
   "metadata": {},
   "outputs": [],
   "source": [
    "x, y = perceiver_dataset[TEST_INDEX]\n",
    "x, y = x.to(trainer.device), y.to(trainer.device)\n",
    "model.eval()\n",
    "y_pred = model(x.unsqueeze(0))\n",
    "max_indices = y_pred.argmax(dim=2)"
   ]
  },
  {
   "cell_type": "code",
   "execution_count": 14,
   "metadata": {},
   "outputs": [],
   "source": [
    "x_string = torch_to_string(x)[:-LATENT_SIZE+1]\n",
    "y_string = torch_to_string(y)\n",
    "y_pred_string = torch_to_string(max_indices.squeeze(0))"
   ]
  },
  {
   "cell_type": "code",
   "execution_count": 15,
   "metadata": {},
   "outputs": [
    {
     "name": "stdout",
     "output_type": "stream",
     "text": [
      "Start - □□□□□□□□□□□□□□□□□□□□□□□□□□□□□□□□□□□□□◎Douglas Fee. Douglas Fee (born 21 July 1944 in Kingston, On\n",
      "Target - tario) was a member of the Canad\n",
      "Predicted -     nn i   i i   o  i  i   i    \n"
     ]
    }
   ],
   "source": [
    "print(f\"Start - {x_string}\")\n",
    "print(f\"Target - {y_string}\")\n",
    "print(f\"Predicted - {y_pred_string}\")"
   ]
  },
  {
   "cell_type": "code",
   "execution_count": null,
   "metadata": {},
   "outputs": [],
   "source": [
    "# from torch.utils.data import DataLoader\n",
    "# batch_size = 32\n",
    "# data_loader = DataLoader(perceiver_dataset, batch_size=batch_size, shuffle=True)\n",
    "# data_iter = iter(data_loader)\n",
    "# x, y = next(data_iter)"
   ]
  }
 ],
 "metadata": {
  "kernelspec": {
   "display_name": "Python 3.8.5 ('test_env': venv)",
   "language": "python",
   "name": "python3"
  },
  "language_info": {
   "codemirror_mode": {
    "name": "ipython",
    "version": 3
   },
   "file_extension": ".py",
   "mimetype": "text/x-python",
   "name": "python",
   "nbconvert_exporter": "python",
   "pygments_lexer": "ipython3",
   "version": "3.8.5"
  },
  "orig_nbformat": 4,
  "vscode": {
   "interpreter": {
    "hash": "0808e13e55522281dae1cd7dd875535e153dc463fe9a3f0e387308450dd22c79"
   }
  }
 },
 "nbformat": 4,
 "nbformat_minor": 2
}
